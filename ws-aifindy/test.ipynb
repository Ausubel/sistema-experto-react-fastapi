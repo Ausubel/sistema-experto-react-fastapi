{
 "cells": [
  {
   "cell_type": "code",
   "execution_count": 104,
   "metadata": {},
   "outputs": [],
   "source": [
    "from bs4 import BeautifulSoup\n",
    "import requests\n",
    "import json"
   ]
  },
  {
   "cell_type": "code",
   "execution_count": 105,
   "metadata": {},
   "outputs": [],
   "source": [
    "URL_BASE = 'https://aifindy.com/directorio-en-lista/chatgpt'\n",
    "\n",
    "get_requested = requests.get(URL_BASE)\n",
    "html_requested = get_requested.text\n",
    "soup = BeautifulSoup(html_requested, 'html.parser')"
   ]
  },
  {
   "cell_type": "code",
   "execution_count": 106,
   "metadata": {},
   "outputs": [
    {
     "name": "stdout",
     "output_type": "stream",
     "text": [
      "{'name': 'ChatGPT'}\n"
     ]
    }
   ],
   "source": [
    "name = {\"name\": soup.find('h1', class_='notion-header__title').text}\n",
    "print(name)"
   ]
  },
  {
   "cell_type": "code",
   "execution_count": 107,
   "metadata": {},
   "outputs": [
    {
     "name": "stdout",
     "output_type": "stream",
     "text": [
      "{'description': 'ChatGPT: Optimizando los Modelos de Lenguaje para el Diálogo. El formato de diálogo permite a ChatGPT responder preguntas de seguimiento, admitir sus errores, desafiar premisas incorrectas y rechazar solicitudes inapropiadas.'}\n"
     ]
    }
   ],
   "source": [
    "description = {\"description\": soup.find('div', class_='notion-callout').find('span', class_='notion-semantic-string').text}\n",
    "print(description)"
   ]
  },
  {
   "cell_type": "code",
   "execution_count": 108,
   "metadata": {},
   "outputs": [
    {
     "name": "stdout",
     "output_type": "stream",
     "text": [
      "{'link': 'https://chat.openai.com/chat'}\n"
     ]
    }
   ],
   "source": [
    "link = {\"link\": soup.find('a', class_='notion-link link').get('href')}\n",
    "print(link)"
   ]
  },
  {
   "cell_type": "code",
   "execution_count": 109,
   "metadata": {},
   "outputs": [
    {
     "name": "stdout",
     "output_type": "stream",
     "text": [
      "{'link_image': 'https://images.spr.so/cdn-cgi/imagedelivery/j42No7y-dcokJuNgXeA0ig/5b40bba5-4f6f-48a1-abf7-fede16547fc2/Captura_de_pantalla_2023-01-14_a_las_3.58.29/w=3840,quality=80,fit=scale-down'}\n"
     ]
    }
   ],
   "source": [
    "link_image = {\"link_image\": str(soup.find('img')).split('src=\"')[1].split('\"')[0]}\n",
    "print(link_image)"
   ]
  },
  {
   "cell_type": "code",
   "execution_count": 110,
   "metadata": {},
   "outputs": [
    {
     "name": "stdout",
     "output_type": "stream",
     "text": [
      "{'props': ['Freemium', 'Texto', 'GPT', 'Asistente']}\n"
     ]
    }
   ],
   "source": [
    "\n",
    "\n",
    "properties = soup.find_all('span', class_='notion-pill')\n",
    "properties_list = [tag.get_text() for tag in properties]\n",
    "\n",
    "props = {\"props\": properties_list}\n",
    "print(props)    \n",
    "\n"
   ]
  },
  {
   "cell_type": "code",
   "execution_count": 111,
   "metadata": {},
   "outputs": [
    {
     "name": "stdout",
     "output_type": "stream",
     "text": [
      "{'price': 'Desde $20.00'}\n"
     ]
    }
   ],
   "source": [
    "try:\n",
    "    price = {\"price\": \"Desde \" + soup.find('div', class_='notion-property__number').find('span', class_='notion-semantic-string').text}\n",
    "except:\n",
    "    if(properties_list[0] == \"Gratis\"):\n",
    "        price = {\"price\": \"$0.00\"}\n",
    "    else:\n",
    "        price = {\"price\": \"No disponible\"}\n",
    "print(price)"
   ]
  },
  {
   "cell_type": "code",
   "execution_count": 112,
   "metadata": {},
   "outputs": [
    {
     "name": "stdout",
     "output_type": "stream",
     "text": [
      "{\n",
      "  \"name\": \"ChatGPT\",\n",
      "  \"description\": \"ChatGPT: Optimizando los Modelos de Lenguaje para el Di\\u00e1logo. El formato de di\\u00e1logo permite a ChatGPT responder preguntas de seguimiento, admitir sus errores, desafiar premisas incorrectas y rechazar solicitudes inapropiadas.\",\n",
      "  \"link\": \"https://chat.openai.com/chat\",\n",
      "  \"price\": \"Desde $20.00\",\n",
      "  \"link_image\": \"https://images.spr.so/cdn-cgi/imagedelivery/j42No7y-dcokJuNgXeA0ig/5b40bba5-4f6f-48a1-abf7-fede16547fc2/Captura_de_pantalla_2023-01-14_a_las_3.58.29/w=3840,quality=80,fit=scale-down\",\n",
      "  \"props\": [\n",
      "    \"Freemium\",\n",
      "    \"Texto\",\n",
      "    \"GPT\",\n",
      "    \"Asistente\"\n",
      "  ]\n",
      "}\n"
     ]
    }
   ],
   "source": [
    "data = {**name, **description, **link, **price, **link_image, **props}\n",
    "json_data = json.dumps(data, indent=2)\n",
    "print(json_data)\n"
   ]
  },
  {
   "cell_type": "code",
   "execution_count": 113,
   "metadata": {},
   "outputs": [
    {
     "name": "stdout",
     "output_type": "stream",
     "text": [
      "Archivo creado\n"
     ]
    }
   ],
   "source": [
    "with open('data.json', 'w') as file:\n",
    "    json.dump(data, file, indent=2)\n",
    "    print('Archivo creado')"
   ]
  }
 ],
 "metadata": {
  "kernelspec": {
   "display_name": "venv",
   "language": "python",
   "name": "python3"
  },
  "language_info": {
   "codemirror_mode": {
    "name": "ipython",
    "version": 3
   },
   "file_extension": ".py",
   "mimetype": "text/x-python",
   "name": "python",
   "nbconvert_exporter": "python",
   "pygments_lexer": "ipython3",
   "version": "3.12.2"
  }
 },
 "nbformat": 4,
 "nbformat_minor": 2
}
