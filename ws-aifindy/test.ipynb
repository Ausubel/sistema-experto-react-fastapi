{
 "cells": [
  {
   "cell_type": "code",
   "execution_count": 18,
   "metadata": {},
   "outputs": [],
   "source": [
    "from bs4 import BeautifulSoup\n",
    "import requests\n",
    "import json"
   ]
  },
  {
   "cell_type": "code",
   "execution_count": 19,
   "metadata": {},
   "outputs": [],
   "source": [
    "URL_BASE = 'https://aifindy.com/aifindy'\n",
    "\n",
    "get_requested = requests.get(URL_BASE)\n",
    "html_requested = get_requested.text\n",
    "soup = BeautifulSoup(html_requested, 'html.parser')"
   ]
  },
  {
   "cell_type": "code",
   "execution_count": 20,
   "metadata": {},
   "outputs": [
    {
     "name": "stdout",
     "output_type": "stream",
     "text": [
      "{'name': 'AIFindy'}\n"
     ]
    }
   ],
   "source": [
    "name = {\"name\": soup.find('h1', class_='notion-header__title').text}\n",
    "print(name)"
   ]
  },
  {
   "cell_type": "code",
   "execution_count": 21,
   "metadata": {},
   "outputs": [
    {
     "name": "stdout",
     "output_type": "stream",
     "text": [
      "{'description': 'AIFindy es una plataforma que facilita la búsqueda de herramientas de Inteligencia Artificial. Ofrece una base de datos con herramientas IA ordenadas por precio y categoría para que el usuario encuentre la que mejor se adapte a sus necesidades. La base de datos se actualiza todos los días para ofrecer información actualizada. Además, AIFindy ofrece recursos especializados que ayudan a los usuarios a tomar decisiones informadas al momento de seleccionar herramientas de IA.'}\n"
     ]
    }
   ],
   "source": [
    "description = {\"description\": soup.find('div', class_='notion-callout').find('span', class_='notion-semantic-string').text}\n",
    "print(description)"
   ]
  },
  {
   "cell_type": "code",
   "execution_count": 22,
   "metadata": {},
   "outputs": [
    {
     "name": "stdout",
     "output_type": "stream",
     "text": [
      "{'link': '/'}\n"
     ]
    }
   ],
   "source": [
    "link_categorie = {\"link\": soup.find('a', class_='notion-link link').get('href')}\n",
    "print(link_categorie)"
   ]
  },
  {
   "cell_type": "code",
   "execution_count": 23,
   "metadata": {},
   "outputs": [
    {
     "name": "stdout",
     "output_type": "stream",
     "text": [
      "{'link_image': 'https://images.spr.so/cdn-cgi/imagedelivery/j42No7y-dcokJuNgXeA0ig/272b6229-aa8c-4016-b52a-7614fe4d3696/Captura_de_pantalla_2023-01-20_a_las_22.20.46/w=3840,quality=80,fit=scale-down'}\n"
     ]
    }
   ],
   "source": [
    "link_image = {\"link_image\": str(soup.find('img')).split('src=\"')[1].split('\"')[0]}\n",
    "print(link_image)"
   ]
  },
  {
   "cell_type": "code",
   "execution_count": 24,
   "metadata": {},
   "outputs": [
    {
     "name": "stdout",
     "output_type": "stream",
     "text": [
      "{'props': ['Gratis', 'Buscador', 'Investigación', 'Marketing', 'Recursos']}\n"
     ]
    }
   ],
   "source": [
    "\n",
    "\n",
    "properties = soup.find_all('span', class_='notion-pill')\n",
    "properties_list = [tag.get_text() for tag in properties]\n",
    "\n",
    "props = {\"props\": properties_list}\n",
    "print(props)    \n",
    "\n"
   ]
  },
  {
   "cell_type": "code",
   "execution_count": 25,
   "metadata": {},
   "outputs": [
    {
     "name": "stdout",
     "output_type": "stream",
     "text": [
      "{'price': '$0.00'}\n"
     ]
    }
   ],
   "source": [
    "try:\n",
    "    price = {\"price\": \"Desde \" + soup.find('div', class_='notion-property__number').find('span', class_='notion-semantic-string').text}\n",
    "except:\n",
    "    if(properties_list[0] == \"Gratis\"):\n",
    "        price = {\"price\": \"$0.00\"}\n",
    "    else:\n",
    "        price = {\"price\": \"No disponible\"}\n",
    "print(price)"
   ]
  },
  {
   "cell_type": "code",
   "execution_count": 26,
   "metadata": {},
   "outputs": [
    {
     "name": "stdout",
     "output_type": "stream",
     "text": [
      "{\n",
      "  \"name\": \"AIFindy\",\n",
      "  \"description\": \"AIFindy es una plataforma que facilita la b\\u00fasqueda de herramientas de Inteligencia Artificial. Ofrece una base de datos con herramientas IA ordenadas por precio y categor\\u00eda para que el usuario encuentre la que mejor se adapte a sus necesidades. La base de datos se actualiza todos los d\\u00edas para ofrecer informaci\\u00f3n actualizada. Adem\\u00e1s, AIFindy ofrece recursos especializados que ayudan a los usuarios a tomar decisiones informadas al momento de seleccionar herramientas de IA.\",\n",
      "  \"link\": \"/\",\n",
      "  \"price\": \"$0.00\",\n",
      "  \"link_image\": \"https://images.spr.so/cdn-cgi/imagedelivery/j42No7y-dcokJuNgXeA0ig/272b6229-aa8c-4016-b52a-7614fe4d3696/Captura_de_pantalla_2023-01-20_a_las_22.20.46/w=3840,quality=80,fit=scale-down\",\n",
      "  \"props\": [\n",
      "    \"Gratis\",\n",
      "    \"Buscador\",\n",
      "    \"Investigaci\\u00f3n\",\n",
      "    \"Marketing\",\n",
      "    \"Recursos\"\n",
      "  ]\n",
      "}\n"
     ]
    }
   ],
   "source": [
    "data = {**name, **description, **link_categorie, **price, **link_image, **props}\n",
    "json_data = json.dumps(data, indent=2)\n",
    "print(json_data)\n"
   ]
  },
  {
   "cell_type": "code",
   "execution_count": 27,
   "metadata": {},
   "outputs": [
    {
     "name": "stdout",
     "output_type": "stream",
     "text": [
      "Archivo creado\n"
     ]
    }
   ],
   "source": [
    "with open('entry.json', 'w') as file:\n",
    "    json.dump(data, file, indent=2, ensure_ascii=False)\n",
    "    print('Archivo creado')"
   ]
  },
  {
   "cell_type": "code",
   "execution_count": 28,
   "metadata": {},
   "outputs": [
    {
     "name": "stdout",
     "output_type": "stream",
     "text": [
      "['https://aifindy.com/categorias/redes-sociales-marketing-seo', 'https://aifindy.com/categorias/fotos-arte-avatar', 'https://aifindy.com/categorias/textos-emails-escrito', 'https://aifindy.com/categorias/diseo-logos-3d', 'https://aifindy.com/categorias/musica-audio-voz', 'https://aifindy.com/categorias/video', 'https://aifindy.com/categorias/asistente', 'https://aifindy.com/categorias/automatizacin', 'https://aifindy.com/categorias/programacion', 'https://aifindy.com/categorias/divertido', 'https://aifindy.com/categorias/gaming', 'https://aifindy.com/categorias/inmobiliariaarquitectura', 'https://aifindy.com/categorias/productividad', 'https://aifindy.com/categorias/texto-a-voz', 'https://aifindy.com/categorias/bot', 'https://aifindy.com/categorias/influencers', 'https://aifindy.com/categorias/metaverso', 'https://aifindy.com/categorias/finanzas', 'https://aifindy.com/categorias/diapositivas-y-presentac', 'https://aifindy.com/categorias/api', 'https://aifindy.com/categorias/3d', 'https://aifindy.com/categorias/logos', 'https://aifindy.com/categorias/avatar', 'https://aifindy.com/categorias/redes-sociales', 'https://aifindy.com/categorias/se', 'https://aifindy.com/categorias/generador-de-imgenes', 'https://aifindy.com/categorias/web', 'https://aifindy.com/categorias/legal', 'https://aifindy.com/categorias/atencin-al-cliente', 'https://aifindy.com/categorias/amazon', 'https://aifindy.com/categorias/investigacin', 'https://aifindy.com/categorias/organizacin', 'https://aifindy.com/categorias/recursos', 'https://aifindy.com/categorias/podcast', 'https://aifindy.com/categorias/anlisis-de-datos', 'https://aifindy.com/categorias/prompts', 'https://aifindy.com/categorias/github', 'https://aifindy.com/categorias/gpt', 'https://aifindy.com/categorias/planificador', 'https://aifindy.com/categorias/regalos', 'https://aifindy.com/categorias/sql', 'https://aifindy.com/categorias/copywriting', 'https://aifindy.com/categorias/recursos-humanos', 'https://aifindy.com/categorias/salud', 'https://aifindy.com/categorias/tattoos', 'https://aifindy.com/categorias/fashion-y-moda', 'https://aifindy.com/categorias/startup', 'https://aifindy.com/categorias/educacin', 'https://aifindy.com/categorias/e-commerce', 'https://aifindy.com/categorias/excel', 'https://aifindy.com/categorias/texto-a-video', 'https://aifindy.com/categorias/voz-a-texto']\n"
     ]
    }
   ],
   "source": [
    "def get_soup(url):\n",
    "    get_requested = requests.get(url)\n",
    "    html_requested = get_requested.text\n",
    "    soup = BeautifulSoup(html_requested, 'html.parser')\n",
    "    return soup\n",
    "\n",
    "soap_categories = get_soup('https://aifindy.com/todas-las-categorias')\n",
    "\n",
    "links_categories = soap_categories.find_all('a', class_='notion-link notion-collection-card__anchor')\n",
    "\n",
    "complete_links_categories = []\n",
    "\n",
    "for link_categorie in links_categories:\n",
    "    href = link_categorie.get('href')\n",
    "    # simepeza com /categorias\n",
    "    if not href.startswith('/categorias'):\n",
    "        continue\n",
    "    complete_href = 'https://aifindy.com' + href\n",
    "    complete_links_categories.append(complete_href)\n",
    "\n",
    "print(complete_links_categories)\n"
   ]
  },
  {
   "cell_type": "code",
   "execution_count": 29,
   "metadata": {},
   "outputs": [
    {
     "name": "stdout",
     "output_type": "stream",
     "text": [
      "Archivo creado\n"
     ]
    }
   ],
   "source": [
    "data_ais_list = {}\n",
    "for link_categorie in complete_links_categories:\n",
    "    \n",
    "    soup_category = get_soup(link_categorie)\n",
    "    result_set_urls = soup_category.find_all('div', class_='notion-collection-card gallery')\n",
    "    urls = []\n",
    "    complete_links_ais = []\n",
    "    for url in result_set_urls:\n",
    "        href = url.find('a').get('href')\n",
    "        if href.startswith('/categorias') or href.startswith('/buscador'):\n",
    "            continue\n",
    "        complete_href = 'https://aifindy.com' + href\n",
    "        complete_links_ais.append(complete_href)\n",
    "    name_category = link_categorie.split('/')[-1]\n",
    "    data_ais_list[name_category] = complete_links_ais\n",
    "    \n",
    "with open('data_ais_list.json', 'w') as file:\n",
    "    json.dump(data_ais_list, file, indent=2)\n",
    "    print('Archivo creado')\n",
    "\n"
   ]
  },
  {
   "cell_type": "markdown",
   "metadata": {},
   "source": [
    "## Limpliando"
   ]
  },
  {
   "cell_type": "code",
   "execution_count": 30,
   "metadata": {},
   "outputs": [
    {
     "name": "stdout",
     "output_type": "stream",
     "text": [
      "Archivo creado\n"
     ]
    }
   ],
   "source": [
    "import numpy as np\n",
    "# eliminar ducplicados, lee data como list\n",
    "with open('data_ais_final_list.json', 'r') as file:\n",
    "    data_ais_final_list = json.load(file)\n",
    "    \n",
    "data_ais_final_list = list(set(data_ais_final_list))\n",
    "\n",
    "np_nata_ais_final_list = np.array(data_ais_final_list)\n",
    "np_nata_ais_final_list = np.unique(np_nata_ais_final_list)\n",
    "\n",
    "with open('data_ais_urls.json', 'w') as file:\n",
    "    json.dump(np_nata_ais_final_list.tolist(), file, indent=2)\n",
    "    print('Archivo creado')\n",
    "\n",
    "\n",
    "    "
   ]
  }
 ],
 "metadata": {
  "kernelspec": {
   "display_name": "venv",
   "language": "python",
   "name": "python3"
  },
  "language_info": {
   "codemirror_mode": {
    "name": "ipython",
    "version": 3
   },
   "file_extension": ".py",
   "mimetype": "text/x-python",
   "name": "python",
   "nbconvert_exporter": "python",
   "pygments_lexer": "ipython3",
   "version": "3.12.2"
  }
 },
 "nbformat": 4,
 "nbformat_minor": 2
}
